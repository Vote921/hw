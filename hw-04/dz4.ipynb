{
 "cells": [
  {
   "cell_type": "code",
   "execution_count": 2,
   "metadata": {},
   "outputs": [
    {
     "name": "stdout",
     "output_type": "stream",
     "text": [
      "['Africa', 'Australia', 'Eurasia']\n"
     ]
    }
   ],
   "source": [
    "materyki = ['Eurasia', 'Africa', 'Australia']\n",
    "materyki.sort()\n",
    "print(materyki)"
   ]
  },
  {
   "cell_type": "code",
   "execution_count": 22,
   "metadata": {},
   "outputs": [
    {
     "name": "stdout",
     "output_type": "stream",
     "text": [
      "Error 921\n"
     ]
    }
   ],
   "source": [
    "goods = [\n",
    "\n",
    "    ['phone', 'samsung', 7800],\n",
    "\n",
    "    ['notebook', 'dell', 28000],\n",
    "\n",
    "    ['notebook', 'hp', 35000],\n",
    "\n",
    "    ['phone', 'iphone', 27800],\n",
    "\n",
    "]\n",
    "a = input('Введіть введіть тип товару')\n",
    "if a == 'phone':\n",
    "    print(goods.pop(3))\n",
    "    print(goods.pop(-0))\n",
    "elif a == 'notebook':\n",
    "    print(goods.pop(1))\n",
    "    print(goods.pop(-2))\n",
    "else :print('Error 921')\n"
   ]
  }
 ],
 "metadata": {
  "kernelspec": {
   "display_name": "Python 3.10.5 64-bit",
   "language": "python",
   "name": "python3"
  },
  "language_info": {
   "codemirror_mode": {
    "name": "ipython",
    "version": 3
   },
   "file_extension": ".py",
   "mimetype": "text/x-python",
   "name": "python",
   "nbconvert_exporter": "python",
   "pygments_lexer": "ipython3",
   "version": "3.10.5"
  },
  "orig_nbformat": 4,
  "vscode": {
   "interpreter": {
    "hash": "fb4569285eef3a3450cb62085a5b1e0da4bce0af555edc33dcf29baf3acc1368"
   }
  }
 },
 "nbformat": 4,
 "nbformat_minor": 2
}
