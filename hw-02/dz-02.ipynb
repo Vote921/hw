{
 "cells": [
  {
   "cell_type": "code",
   "execution_count": null,
   "metadata": {},
   "outputs": [],
   "source": [
    "a = input('Введіть ваше призвіще')\n",
    "b = int(input('Введіть вашу оцінку'))\n",
    "if b < 75:\n",
    "    if b < 60:     \n",
    "        print(f'{a} набрав {b} балів тому оцінка - незадовільно')\n",
    "    else:              \n",
    "        print(f'{a} набрав {b} балів тому оцінка - задовільно')\n",
    "else:\n",
    "    if b >= 95:        \n",
    "        print(f'{a} набрав {b} балів тому оцінка - відмінно')\n",
    "    else:                 \n",
    "        print(f'{a} набрав {b} балів тому оцінка - добре')"
   ]
  },
  {
   "cell_type": "code",
   "execution_count": 9,
   "metadata": {},
   "outputs": [
    {
     "name": "stdout",
     "output_type": "stream",
     "text": [
      "Вінницька область\n"
     ]
    }
   ],
   "source": [
    "a = input('Введіть перші бві літери номерного знаку ')\n",
    "if a == 'АА' or a == 'КА':\n",
    "    print('Київська область')\n",
    "elif a == 'АВ':\n",
    "    print(\"Вінницька область\")\n",
    "elif a == 'АЕ':\n",
    "    print('Дніпропетровська область')\n",
    "elif a == 'АН':\n",
    "    print('Донецька область')\n",
    "else:\n",
    "    print('Інша область')"
   ]
  }
 ],
 "metadata": {
  "interpreter": {
   "hash": "e29f5250854c5b295cf57842d5b0a69e5e9986d449ea1c24fe4f7941fcec7cdc"
  },
  "kernelspec": {
   "display_name": "Python 3.10.4 64-bit",
   "language": "python",
   "name": "python3"
  },
  "language_info": {
   "codemirror_mode": {
    "name": "ipython",
    "version": 3
   },
   "file_extension": ".py",
   "mimetype": "text/x-python",
   "name": "python",
   "nbconvert_exporter": "python",
   "pygments_lexer": "ipython3",
   "version": "3.10.4"
  },
  "orig_nbformat": 4
 },
 "nbformat": 4,
 "nbformat_minor": 2
}
