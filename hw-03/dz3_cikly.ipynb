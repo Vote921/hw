{
 "cells": [
  {
   "cell_type": "code",
   "execution_count": null,
   "metadata": {},
   "outputs": [],
   "source": [
    "a = int(input('Введіть перше число'))\n",
    "b = int(input('Введіть друге число'))\n",
    "for i in range(a,b,1):\n",
    "    print(i**2)"
   ]
  },
  {
   "cell_type": "code",
   "execution_count": 8,
   "metadata": {},
   "outputs": [
    {
     "name": "stdout",
     "output_type": "stream",
     "text": [
      "budesh vpershe\n"
     ]
    }
   ],
   "source": [
    "a = input('Введіть перше число')\n",
    "cities = ['kiev','lutsk','lviv','rivno','kovel']\n",
    "for city in cities:\n",
    "    if a == city:\n",
    "        b = 'vu vzhe buly'\n",
    "        break\n",
    "    else:\n",
    "        b = 'budesh vpershe'\n",
    "print(b)"
   ]
  },
  {
   "cell_type": "code",
   "execution_count": 21,
   "metadata": {},
   "outputs": [
    {
     "name": "stdout",
     "output_type": "stream",
     "text": [
      "1\n"
     ]
    }
   ],
   "source": [
    "a = input('vvedy frazu')\n",
    "b = input('vvedy znak')\n",
    "c = 0\n",
    "for i in a:\n",
    "    if i == b:\n",
    "        c += 1\n",
    "print(c)\n"
   ]
  }
 ],
 "metadata": {
  "kernelspec": {
   "display_name": "Python 3.10.5 64-bit",
   "language": "python",
   "name": "python3"
  },
  "language_info": {
   "codemirror_mode": {
    "name": "ipython",
    "version": 3
   },
   "file_extension": ".py",
   "mimetype": "text/x-python",
   "name": "python",
   "nbconvert_exporter": "python",
   "pygments_lexer": "ipython3",
   "version": "3.10.5"
  },
  "orig_nbformat": 4,
  "vscode": {
   "interpreter": {
    "hash": "fb4569285eef3a3450cb62085a5b1e0da4bce0af555edc33dcf29baf3acc1368"
   }
  }
 },
 "nbformat": 4,
 "nbformat_minor": 2
}
