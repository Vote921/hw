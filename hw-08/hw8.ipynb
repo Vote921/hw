{
 "cells": [
  {
   "cell_type": "code",
   "execution_count": 4,
   "metadata": {},
   "outputs": [
    {
     "name": "stdout",
     "output_type": "stream",
     "text": [
      "2 ^ 3 = 8\n"
     ]
    }
   ],
   "source": [
    "def summa(dodanok_1, dodanok_2):\n",
    "    return  dodanok_1 + dodanok_2\n",
    "def subtraction(a, b):\n",
    "    return a - b\n",
    "def mult(a, b):\n",
    "    return a * b\n",
    "def division(a, b):\n",
    "    if b == 0:\n",
    "        print('На нуль ділити не можна')\n",
    "    else:\n",
    "        return a / b\n",
    "def stepin(a,b):\n",
    "    return a ** b\n",
    "def calculate(operand_1, operand_2, operation):\n",
    "    if operation == '+':\n",
    "        result = summa(operand_1, operand_2)\n",
    "    elif operation == '-':\n",
    "        result = subtraction(operand_1, operand_2)\n",
    "    elif operation == '*':\n",
    "        result = mult(operand_1, operand_2)\n",
    "    elif  operation == '/':\n",
    "        result = division(operand_1, operand_2)\n",
    "    elif operation == '^':\n",
    "        result = stepin(operand_1, operand_2)   \n",
    "    return result\n",
    "def chek_operation(operation):\n",
    "    return operation in ['+', '-', '*', '/','^']\n",
    "\n",
    "result = None \n",
    "operand_1 = int(input('Введите число A'))\n",
    "operand_2 = int(input('Введите число B'))\n",
    "user_operation = input('Enter operation: | + | - | * | /')\n",
    "\n",
    "if chek_operation(user_operation):\n",
    "    result = calculate(operand_1, operand_2, user_operation)\n",
    "    print(operand_1, user_operation, operand_2, '=', result)\n",
    "else:\n",
    "    print('Operation not supported:', user_operation)"
   ]
  },
  {
   "cell_type": "code",
   "execution_count": 11,
   "metadata": {},
   "outputs": [
    {
     "name": "stdout",
     "output_type": "stream",
     "text": [
      "Клієтн ільк забронював столик на 4 осіб\n"
     ]
    }
   ],
   "source": [
    "name = input('Вкажіть ваше призвіще')\n",
    "number = int(input('Вкажіть кількість клієнтів'))\n",
    "def abc(a,b):\n",
    "        print(f'Клієтн {a} забронював столик на {b} осіб')\n",
    "abc(name,number)"
   ]
  },
  {
   "cell_type": "code",
   "execution_count": 16,
   "metadata": {},
   "outputs": [
    {
     "name": "stdout",
     "output_type": "stream",
     "text": [
      "вулиця 2\n"
     ]
    }
   ],
   "source": [
    "list = {\n",
    "    1 : 'вулиця 1',\n",
    "    2 : 'вулиця 2',\n",
    "    3 : 'вулиця 3',\n",
    "    4 : 'вулиця 4',\n",
    "    5 : 'вулиця 5'\n",
    "}\n",
    "numb_of_depart = int(input('Введіть номер відділення'))\n",
    "def poshuk(numd_of_depart):\n",
    "    if list.get(numb_of_depart):\n",
    "        print(list[numb_of_depart])\n",
    "    else :\n",
    "        print('Такого відділення не існує')\n",
    "poshuk(numb_of_depart)\n"
   ]
  },
  {
   "cell_type": "code",
   "execution_count": null,
   "metadata": {},
   "outputs": [],
   "source": []
  }
 ],
 "metadata": {
  "kernelspec": {
   "display_name": "Python 3.10.5 64-bit",
   "language": "python",
   "name": "python3"
  },
  "language_info": {
   "name": "python",
   "version": "3.10.5"
  },
  "orig_nbformat": 4,
  "vscode": {
   "interpreter": {
    "hash": "fb4569285eef3a3450cb62085a5b1e0da4bce0af555edc33dcf29baf3acc1368"
   }
  }
 },
 "nbformat": 4,
 "nbformat_minor": 2
}
