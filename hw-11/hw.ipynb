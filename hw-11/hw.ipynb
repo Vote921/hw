{
 "cells": [
  {
   "cell_type": "code",
   "execution_count": 1,
   "metadata": {},
   "outputs": [
    {
     "name": "stdout",
     "output_type": "stream",
     "text": [
      "Реал\n",
      "Мадрид\n",
      "63\n",
      "Ліверпуль\n",
      "Ліверпуль\n",
      "78\n"
     ]
    }
   ],
   "source": [
    "class Football_club:\n",
    "    name = \"Club's name\"\n",
    "    city = \"Club's city\"\n",
    "    points = 0\n",
    "\n",
    "club_1 = Football_club()\n",
    "club_1.name = \"Реал\"\n",
    "club_1.city = \"Мадрид\"\n",
    "club_1.points = 63\n",
    "print(club_1.name)\n",
    "print(club_1.city)\n",
    "print(club_1.points)\n",
    "\n",
    "club_2 = Football_club\n",
    "club_2.name = \"Ліверпуль\"\n",
    "club_2.city = \"Ліверпуль\"\n",
    "club_2.points = 78\n",
    "print(club_2.name)\n",
    "print(club_2.city)\n",
    "print(club_2.points)\n",
    "\n"
   ]
  },
  {
   "cell_type": "code",
   "execution_count": 17,
   "metadata": {},
   "outputs": [
    {
     "name": "stdout",
     "output_type": "stream",
     "text": [
      "['Астон Вілла', -9]\n"
     ]
    }
   ],
   "source": [
    "class championship:\n",
    "    country = \"Англія\"\n",
    "    name_of_championship = \"Прем'єр ліга\"\n",
    "    list_of_commands = [\n",
    "        [\"Арсенал\", 18],\n",
    "        [\"Астон Вілла\", -9],\n",
    "        [\"Ліверпуль\", 17],\n",
    "        [\"Манчестер Юнайтед\", 6]\n",
    "    ]\n",
    "numb = 10000\n",
    "\n",
    "for team in championship.list_of_commands:\n",
    "    if team[1]<numb:\n",
    "        numb=team[1]\n",
    "\n",
    "for team in championship.list_of_commands:\n",
    "    if team[1] ==  numb:\n",
    "        print(team)\n",
    "\n",
    "\n"
   ]
  },
  {
   "cell_type": "code",
   "execution_count": null,
   "metadata": {},
   "outputs": [],
   "source": [
    "\"Завдання 3 те саме що і пункт 4 в завд 2\""
   ]
  }
 ],
 "metadata": {
  "kernelspec": {
   "display_name": "Python 3.10.4 64-bit",
   "language": "python",
   "name": "python3"
  },
  "language_info": {
   "codemirror_mode": {
    "name": "ipython",
    "version": 3
   },
   "file_extension": ".py",
   "mimetype": "text/x-python",
   "name": "python",
   "nbconvert_exporter": "python",
   "pygments_lexer": "ipython3",
   "version": "3.10.4"
  },
  "orig_nbformat": 4,
  "vscode": {
   "interpreter": {
    "hash": "e29f5250854c5b295cf57842d5b0a69e5e9986d449ea1c24fe4f7941fcec7cdc"
   }
  }
 },
 "nbformat": 4,
 "nbformat_minor": 2
}
