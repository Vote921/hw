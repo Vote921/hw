{
 "cells": [
  {
   "cell_type": "code",
   "execution_count": null,
   "metadata": {},
   "outputs": [],
   "source": [
    "name = str(input('enter your name'))\n",
    "repeat = ''\n",
    "l = 1\n",
    "for letters in name:\n",
    "    if name.count(letters)>l:\n",
    "        repeat=letters\n",
    "    elif name.count(letters)== l:\n",
    "        repeat='Повторень немає'\n",
    "print(repeat)\n",
    "\n"
   ]
  },
  {
   "cell_type": "code",
   "execution_count": null,
   "metadata": {},
   "outputs": [],
   "source": [
    "message = str(input('enter your message'))\n",
    "map = {ord('1'): None,ord('2'): None,ord('3'): None,ord('4'): None,ord('5'): None,ord('6'): None,ord('7'): None,ord('8'): None,ord('9'): None,ord('0'): None}\n",
    "redacted_message = message.translate(map)\n",
    "print(redacted_message)\n"
   ]
  },
  {
   "cell_type": "code",
   "execution_count": 1,
   "metadata": {},
   "outputs": [
    {
     "name": "stdout",
     "output_type": "stream",
     "text": [
      "+380679999999\n",
      "error:  +380669999999\n",
      "error:  +380668888888\n",
      "+380507777777\n",
      "+380681151010\n"
     ]
    }
   ],
   "source": [
    "phones = [\n",
    "    '+380679999999', \n",
    "    '+380669999999',\n",
    "    '+380668888888', \n",
    "    '+380507777777',\n",
    "    '+380681151010'\n",
    "]\n",
    "\n",
    "correct_phone_len = 13\n",
    "correct_country_code = '+38'\n",
    "correct_operator_codes = ['067', '068', '097', '044', '050']\n",
    "\n",
    "\n",
    "for phone in phones:\n",
    "    if (len(phone) == correct_phone_len) and (phone[0:3] == correct_country_code) and (phone[3:6] in correct_operator_codes):\n",
    "        print(phone)\n",
    "    else:\n",
    "        print('error: ', phone)"
   ]
  }
 ],
 "metadata": {
  "kernelspec": {
   "display_name": "Python 3.10.5 64-bit",
   "language": "python",
   "name": "python3"
  },
  "language_info": {
   "codemirror_mode": {
    "name": "ipython",
    "version": 3
   },
   "file_extension": ".py",
   "mimetype": "text/x-python",
   "name": "python",
   "nbconvert_exporter": "python",
   "pygments_lexer": "ipython3",
   "version": "3.10.5"
  },
  "orig_nbformat": 4,
  "vscode": {
   "interpreter": {
    "hash": "fb4569285eef3a3450cb62085a5b1e0da4bce0af555edc33dcf29baf3acc1368"
   }
  }
 },
 "nbformat": 4,
 "nbformat_minor": 2
}
