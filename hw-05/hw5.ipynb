{
 "cells": [
  {
   "cell_type": "code",
   "execution_count": null,
   "metadata": {},
   "outputs": [],
   "source": [
    "name = str(input('enter your name'))\n",
    "repeat = ''\n",
    "l = 1\n",
    "for letters in name:\n",
    "    if name.count(letters)>l:\n",
    "        repeat=letters\n",
    "    elif name.count(letters)== l:\n",
    "        repeat='ti lox'\n",
    "print(repeat)\n",
    "\n"
   ]
  },
  {
   "cell_type": "code",
   "execution_count": 60,
   "metadata": {},
   "outputs": [
    {
     "name": "stdout",
     "output_type": "stream",
     "text": [
      "asdfgh\n"
     ]
    }
   ],
   "source": [
    "message = str(input('enter your message'))\n",
    "map = {ord('1'): None,ord('2'): None,ord('3'): None,ord('4'): None,ord('5'): None,ord('6'): None,ord('7'): None,ord('8'): None,ord('9'): None,ord('0'): None}\n",
    "redacted_message = message.translate(map)\n",
    "print(redacted_message)\n"
   ]
  }
 ],
 "metadata": {
  "kernelspec": {
   "display_name": "Python 3.10.5 64-bit",
   "language": "python",
   "name": "python3"
  },
  "language_info": {
   "codemirror_mode": {
    "name": "ipython",
    "version": 3
   },
   "file_extension": ".py",
   "mimetype": "text/x-python",
   "name": "python",
   "nbconvert_exporter": "python",
   "pygments_lexer": "ipython3",
   "version": "3.10.5"
  },
  "orig_nbformat": 4,
  "vscode": {
   "interpreter": {
    "hash": "fb4569285eef3a3450cb62085a5b1e0da4bce0af555edc33dcf29baf3acc1368"
   }
  }
 },
 "nbformat": 4,
 "nbformat_minor": 2
}
